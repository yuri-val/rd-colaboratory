{
 "cells": [
  {
   "cell_type": "markdown",
   "metadata": {},
   "source": [
    "# Setup Environment and Import Libraries\n",
    "Import TensorFlow, NumPy, and visualization libraries. Set random seeds for reproducibility."
   ]
  },
  {
   "cell_type": "code",
   "execution_count": null,
   "metadata": {},
   "outputs": [],
   "source": [
    "# Setup Environment and Import Libraries\n",
    "\n",
    "import tensorflow as tf\n",
    "import numpy as np\n",
    "import matplotlib.pyplot as plt\n",
    "import seaborn as sns\n",
    "\n",
    "# Set random seeds for reproducibility\n",
    "np.random.seed(42)\n",
    "tf.random.set_seed(42)"
   ]
  },
  {
   "cell_type": "markdown",
   "metadata": {},
   "source": [
    "# Load and Preprocess MNIST Dataset\n",
    "Load MNIST dataset using tf.keras.datasets, normalize pixel values to [0,1], and reshape data for PixelCNN input."
   ]
  },
  {
   "cell_type": "code",
   "execution_count": null,
   "metadata": {},
   "outputs": [],
   "source": [
    "# Load and Preprocess MNIST Dataset\n",
    "\n",
    "# Load MNIST dataset\n",
    "(mnist_train, mnist_train_labels), (mnist_test, mnist_test_labels) = tf.keras.datasets.mnist.load_data()\n",
    "\n",
    "# Normalize pixel values to [0, 1]\n",
    "mnist_train = mnist_train.astype('float32') / 255.0\n",
    "mnist_test = mnist_test.astype('float32') / 255.0\n",
    "\n",
    "# Reshape data for PixelCNN input\n",
    "mnist_train = np.expand_dims(mnist_train, axis=-1)\n",
    "mnist_test = np.expand_dims(mnist_test, axis=-1)\n",
    "\n",
    "# Print shapes to verify\n",
    "print(f'Training data shape: {mnist_train.shape}')\n",
    "print(f'Test data shape: {mnist_test.shape}')"
   ]
  },
  {
   "cell_type": "markdown",
   "metadata": {},
   "source": [
    "# Define PixelCNN Model Architecture\n",
    "Implement masked convolutions and build the PixelCNN model using tf.keras.Model with appropriate layers for pixel generation."
   ]
  },
  {
   "cell_type": "code",
   "execution_count": null,
   "metadata": {},
   "outputs": [],
   "source": [
    "# Define PixelCNN Model Architecture\n",
    "\n",
    "class MaskedConv2D(tf.keras.layers.Layer):\n",
    "    def __init__(self, filters, kernel_size, mask_type, activation=None, **kwargs):\n",
    "        super(MaskedConv2D, self).__init__(**kwargs)\n",
    "        self.filters = filters\n",
    "        self.kernel_size = kernel_size\n",
    "        self.mask_type = mask_type\n",
    "        self.activation = tf.keras.activations.get(activation)\n",
    "        self.conv = tf.keras.layers.Conv2D(filters, kernel_size, padding='same')\n",
    "\n",
    "    def build(self, input_shape):\n",
    "        # Build the conv layer first\n",
    "        self.conv.build(input_shape)\n",
    "        \n",
    "        # Create mask\n",
    "        kernel_shape = (self.kernel_size, self.kernel_size, input_shape[-1], self.filters)\n",
    "        self.mask = np.ones(kernel_shape, dtype=np.float32)\n",
    "        center = self.kernel_size // 2\n",
    "\n",
    "        if self.mask_type == 'A':\n",
    "            self.mask[center, center:, :, :] = 0\n",
    "            self.mask[center + 1:, :, :, :] = 0\n",
    "        else:\n",
    "            self.mask[center, center + 1:, :, :] = 0\n",
    "            self.mask[center + 1:, :, :, :] = 0\n",
    "\n",
    "        self.built = True\n",
    "\n",
    "    def call(self, inputs):\n",
    "        masked_kernel = self.conv.kernel * self.mask\n",
    "        self.conv.kernel.assign(masked_kernel)\n",
    "        x = self.conv(inputs)\n",
    "        if self.activation is not None:\n",
    "            x = self.activation(x)\n",
    "        return x\n",
    "\n",
    "def build_pixelcnn(input_shape):\n",
    "    inputs = tf.keras.layers.Input(shape=input_shape)\n",
    "    x = MaskedConv2D(64, 7, mask_type='A', activation='relu')(inputs)\n",
    "    for _ in range(7):\n",
    "        x = MaskedConv2D(64, 7, mask_type='B', activation='relu')(x)\n",
    "    x = tf.keras.layers.Conv2D(256, 1, activation='softmax')(x)\n",
    "    model = tf.keras.Model(inputs, x)\n",
    "    return model\n",
    "\n",
    "# Define input shape\n",
    "input_shape = (28, 28, 1)\n",
    "\n",
    "# Build PixelCNN model\n",
    "pixelcnn_model = build_pixelcnn(input_shape)\n",
    "\n",
    "# Print model summary\n",
    "pixelcnn_model.summary()"
   ]
  },
  {
   "cell_type": "markdown",
   "metadata": {},
   "source": [
    "# Create Training Pipeline\n",
    "Set up loss function, optimizer, and training loop. Implement custom training step and model checkpointing."
   ]
  },
  {
   "cell_type": "code",
   "execution_count": null,
   "metadata": {},
   "outputs": [],
   "source": [
    "# Create Training Pipeline\n",
    "\n",
    "# Define loss function and optimizer\n",
    "pixelcnn_model.compile(\n",
    "    optimizer=tf.keras.optimizers.Adam(learning_rate=0.001),\n",
    "    loss=tf.keras.losses.SparseCategoricalCrossentropy(from_logits=True)\n",
    ")\n",
    "\n",
    "# Setup checkpointing\n",
    "checkpoint_dir = './training_checkpoints'\n",
    "checkpoint_callback = tf.keras.callbacks.ModelCheckpoint(\n",
    "    filepath=checkpoint_dir + '/ckpt-{epoch}',\n",
    "    save_weights_only=True,\n",
    "    save_best_only=True,\n",
    "    monitor='loss'\n",
    ")\n",
    "\n",
    "# Training parameters\n",
    "epochs = 10\n",
    "batch_size = 64\n",
    "\n",
    "# Train the model\n",
    "history = pixelcnn_model.fit(\n",
    "    mnist_train, mnist_train,\n",
    "    epochs=epochs,\n",
    "    batch_size=batch_size,\n",
    "    callbacks=[checkpoint_callback],\n",
    "    verbose=1\n",
    ")\n",
    "\n",
    "print('Training complete.')\n"
   ]
  },
  {
   "cell_type": "markdown",
   "metadata": {},
   "source": [
    "# Generate New Images\n",
    "Implement autoregressive sampling to generate new MNIST digits pixel by pixel using the trained model."
   ]
  },
  {
   "cell_type": "code",
   "execution_count": null,
   "metadata": {},
   "outputs": [],
   "source": [
    "# Generate New Images\n",
    "\n",
    "# Function to generate new images\n",
    "def generate_images(model, num_images, img_shape):\n",
    "    # Initialize images with zeros\n",
    "    generated_images = np.zeros((num_images, *img_shape), dtype=np.float32)\n",
    "    \n",
    "    # Generate each pixel sequentially\n",
    "    for i in range(img_shape[0]):\n",
    "        for j in range(img_shape[1]):\n",
    "            # Get the model's predictions\n",
    "            logits = model(generated_images, training=False)\n",
    "            # Extract probabilities for current pixel position\n",
    "            logits = logits[:, i, j, :]  # Shape: [batch_size, 256]\n",
    "            # Sample from the predicted distribution\n",
    "            samples = tf.random.categorical(tf.math.log(logits), num_samples=1)  # Shape: [batch_size, 1]\n",
    "            samples = tf.cast(samples, tf.float32) / 255.0  # Normalize to [0, 1]\n",
    "            # Update the generated images\n",
    "            generated_images[:, i, j, 0] = samples[:, 0]\n",
    "            \n",
    "    return generated_images\n",
    "\n",
    "# Generate new images\n",
    "num_images = 10\n",
    "generated_images = generate_images(pixelcnn_model, num_images, input_shape)\n",
    "\n",
    "# Plot generated images\n",
    "plt.figure(figsize=(10, 10))\n",
    "for i in range(num_images):\n",
    "    plt.subplot(1, num_images, i + 1)\n",
    "    plt.imshow(generated_images[i, :, :, 0], cmap='gray')\n",
    "    plt.axis('off')\n",
    "plt.show()"
   ]
  },
  {
   "cell_type": "markdown",
   "metadata": {},
   "source": [
    "# Visualize Results\n",
    "Display generated samples and compare with real MNIST digits. Create grid visualization of multiple generated images."
   ]
  },
  {
   "cell_type": "code",
   "execution_count": null,
   "metadata": {},
   "outputs": [],
   "source": [
    "# Visualize Results\n",
    "\n",
    "# Function to plot a grid of images\n",
    "def plot_image_grid(images, grid_size=(5, 5), figsize=(10, 10)):\n",
    "    fig, axes = plt.subplots(grid_size[0], grid_size[1], figsize=figsize)\n",
    "    for i, ax in enumerate(axes.flat):\n",
    "        if i < len(images):\n",
    "            ax.imshow(images[i, :, :, 0], cmap='gray')\n",
    "        ax.axis('off')\n",
    "    plt.show()\n",
    "\n",
    "# Display generated images\n",
    "print(\"Generated Images:\")\n",
    "plot_image_grid(generated_images, grid_size=(2, 5))\n",
    "\n",
    "# Display real MNIST images for comparison\n",
    "print(\"Real MNIST Images:\")\n",
    "plot_image_grid(mnist_test[:10], grid_size=(2, 5))"
   ]
  }
 ],
 "metadata": {
  "language_info": {
   "name": "python"
  }
 },
 "nbformat": 4,
 "nbformat_minor": 2
}
