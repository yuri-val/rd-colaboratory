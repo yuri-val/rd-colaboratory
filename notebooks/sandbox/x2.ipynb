{
  "nbformat": 4,
  "nbformat_minor": 0,
  "metadata": {
    "colab": {
      "provenance": []
    },
    "kernelspec": {
      "name": "python3",
      "display_name": "Python 3"
    },
    "language_info": {
      "name": "python"
    }
  },
  "cells": [
    {
      "cell_type": "code",
      "execution_count": null,
      "metadata": {
        "id": "MMCj-M7ZTCr2"
      },
      "outputs": [],
      "source": [
        "import torch\n",
        "import torch.nn as nn\n",
        "import torch.optim as optim\n",
        "\n",
        "# Створення даних\n",
        "X = torch.tensor([[1.0], [2.0], [3.0], [4.0]])\n",
        "y = torch.tensor([[2.0], [4.0], [6.0], [8.0]])\n",
        "\n",
        "# Визначення простої моделі\n",
        "class LinearModel(nn.Module):\n",
        "    def __init__(self):\n",
        "        super(LinearModel, self).__init__()\n",
        "        self.linear = nn.Linear(1, 1)\n",
        "\n",
        "    def forward(self, x):\n",
        "        return self.linear(x)\n",
        "\n",
        "# Ініціалізація моделі, функції втрат та оптимізатора\n",
        "model =LinearModel()\n",
        "criterion = nn.MSELoss()\n",
        "optimizer = optim.SGD(model.parameters(), lr=0.01)\n",
        "\n",
        "# Тренування моделі\n",
        "for epoch in range(1000):\n",
        "    model.train()\n",
        "\n",
        "    # Прямий прохід\n",
        "    outputs = model(X)\n",
        "    loss = criterion(outputs, y)\n",
        "\n",
        "    # Зворотній прохід та оптимізація\n",
        "    optimizer.zero_grad()\n",
        "    loss.backward()\n",
        "    optimizer.step()\n",
        "\n",
        "    if (epoch+1) % 100 == 0:\n",
        "        print(f'Epoch [{epoch+1}/1000], Loss: {loss.item():.4f}')\n",
        "\n",
        "# Перевірка результату\n",
        "model.eval()\n",
        "with torch.no_grad():\n",
        "    predicted = model(X).numpy()\n",
        "    print(predicted)"
      ]
    },
    {
      "cell_type": "code",
      "source": [
        "X_test = torch.tensor([[5.0], [6.0], [7.0]])\n",
        "\n",
        "with torch.no_grad():\n",
        "    predicted = model(X_test).numpy()\n",
        "    print(predicted)"
      ],
      "metadata": {
        "id": "VFBlBZn3TZQa"
      },
      "execution_count": null,
      "outputs": []
    }
  ]
}